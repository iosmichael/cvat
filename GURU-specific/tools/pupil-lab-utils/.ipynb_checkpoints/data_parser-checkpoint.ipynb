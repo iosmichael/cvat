{
 "cells": [
  {
   "cell_type": "code",
   "execution_count": 1,
   "metadata": {
    "collapsed": true
   },
   "outputs": [],
   "source": [
    "import numpy as np\n",
    "import pickle\n",
    "import os\n",
    "from file_methods import load_object, Serialized_Dict"
   ]
  },
  {
   "cell_type": "code",
   "execution_count": 2,
   "metadata": {
    "collapsed": true
   },
   "outputs": [],
   "source": [
    "import cv2"
   ]
  },
  {
   "cell_type": "code",
   "execution_count": 3,
   "metadata": {},
   "outputs": [
    {
     "name": "stdout",
     "output_type": "stream",
     "text": [
      "4988\n"
     ]
    }
   ],
   "source": [
    "cap = cv2.VideoCapture(\"./world.mp4\")\n",
    "length = int(cap.get(cv2.CAP_PROP_FRAME_COUNT))\n",
    "print( length )"
   ]
  },
  {
   "cell_type": "code",
   "execution_count": 4,
   "metadata": {
    "collapsed": true
   },
   "outputs": [],
   "source": [
    "def find_nearest_idx(array, value):\n",
    "    idx = np.searchsorted(array, value, side=\"left\")\n",
    "    try:\n",
    "        if abs(value - array[idx - 1]) < abs(value - array[idx]):\n",
    "            return idx - 1\n",
    "        else:\n",
    "            return idx\n",
    "    except IndexError:\n",
    "        return idx - 1\n",
    "    \n",
    "def deserialize(pts):\n",
    "    data = []\n",
    "    for p in pts:\n",
    "        data.append({\n",
    "            'norm_pos': p['norm_pos'],\n",
    "            'timestamp': p['timestamp'],\n",
    "            'confidence': p['confidence'],\n",
    "            'topic': p['topic']\n",
    "        })\n",
    "    return data"
   ]
  },
  {
   "cell_type": "code",
   "execution_count": 5,
   "metadata": {
    "scrolled": true
   },
   "outputs": [
    {
     "name": "stdout",
     "output_type": "stream",
     "text": [
      "loading pupil data gaze positions...\n",
      "loading world timestamps...\n",
      "matching world timestamps with existing pupil data\n"
     ]
    }
   ],
   "source": [
    "print('loading pupil data gaze positions...')\n",
    "pupil_data = [Serialized_Dict(item) for item in load_object(\"./pupil_data\")[\"gaze_positions\"]]\n",
    "pupil_timestamps = [item['timestamp'] for item in pupil_data]\n",
    "print('loading world timestamps...')\n",
    "world_timestamps = np.load('./world_timestamps.npy')\n",
    "print('matching world timestamps with existing pupil data')\n",
    "index_mapper = [find_nearest_idx(pupil_timestamps, i) for i in world_timestamps]"
   ]
  },
  {
   "cell_type": "code",
   "execution_count": 13,
   "metadata": {},
   "outputs": [],
   "source": [
    "# need to write test cases: 1. test sorted? 2. test video frame number? 3. test matching quality\n",
    "world_pupil_data = [pupil_data[i] for i in index_mapper]\n",
    "world_pupil_data = deserialize(world_pupil_data)"
   ]
  },
  {
   "cell_type": "code",
   "execution_count": 15,
   "metadata": {
    "collapsed": true
   },
   "outputs": [],
   "source": [
    "np.save(\"world_pupil_data.npy\", world_pupil_data)"
   ]
  },
  {
   "cell_type": "code",
   "execution_count": 36,
   "metadata": {},
   "outputs": [
    {
     "data": {
      "text/plain": [
       "6.294120158141647e-06"
      ]
     },
     "execution_count": 36,
     "metadata": {},
     "output_type": "execute_result"
    }
   ],
   "source": [
    "def test_timestamp_mse(array, target):\n",
    "    return np.mean((array - target) ** 2)\n",
    "\n",
    "ts = [item['timestamp'] for item in world_pupil_data]\n",
    "test_timestamp_mse(np.array(ts), np.array(world_timestamps))"
   ]
  },
  {
   "cell_type": "code",
   "execution_count": null,
   "metadata": {
    "collapsed": true
   },
   "outputs": [],
   "source": [
    "# try out with timestamp confidence less than 0.5\n"
   ]
  }
 ],
 "metadata": {
  "kernelspec": {
   "display_name": "Python 3",
   "language": "python",
   "name": "python3"
  },
  "language_info": {
   "codemirror_mode": {
    "name": "ipython",
    "version": 3
   },
   "file_extension": ".py",
   "mimetype": "text/x-python",
   "name": "python",
   "nbconvert_exporter": "python",
   "pygments_lexer": "ipython3",
   "version": "3.5.5"
  }
 },
 "nbformat": 4,
 "nbformat_minor": 2
}
